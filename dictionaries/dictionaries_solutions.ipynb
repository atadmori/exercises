{
 "cells": [
  {
   "cell_type": "markdown",
   "metadata": {},
   "source": [
    "# Dictionaries"
   ]
  },
  {
   "cell_type": "code",
   "execution_count": 1,
   "metadata": {},
   "outputs": [],
   "source": [
    "import unittest"
   ]
  },
  {
   "cell_type": "markdown",
   "metadata": {},
   "source": [
    "Create a function, `make_planet_gravities` that:\n",
    "- takes no arguments\n",
    "- returns a dictionary with the following keys\n",
    "```\n",
    "sun, jupyter, saturn, uranus, neptune, earth, venus, mars, mercury, pluto\n",
    "```\n",
    "- ...and the corresponding values (gravities in m/s^2):\n",
    "```\n",
    "274, 24.79, 10.445, 8.69, 11.15, 9.81, 8.872, 3.7, 3.7, 0.61\n",
    "```\n",
    "\n",
    "- Call the function and store the result in a variable named `planet_gravities`. \n",
    "- Print the result to the terminal.with the following keys:"
   ]
  },
  {
   "cell_type": "code",
   "execution_count": 2,
   "metadata": {},
   "outputs": [
    {
     "name": "stdout",
     "output_type": "stream",
     "text": [
      "{'sun': 274, 'jupyter': 24.79, 'saturn': 10.445, 'uranus': 8.69, 'neptune': 11.15, 'earth': 9.81, 'venus': 8.872, 'mars': 3.7, 'mercury': 3.7, 'pluto': 0.61}\n"
     ]
    }
   ],
   "source": [
    "def make_planet_gravities():\n",
    "    return {\n",
    "        'sun' : 274,\n",
    "        'jupyter' : 24.79,\n",
    "        'saturn' : 10.445,\n",
    "        'uranus' : 8.69,\n",
    "        'neptune' : 11.15,\n",
    "        'earth' : 9.81,\n",
    "        'venus' : 8.872,\n",
    "        'mars' : 3.7,\n",
    "        'mercury' : 3.7,\n",
    "        'pluto' : 0.61\n",
    "    }\n",
    "\n",
    "planet_gravities = make_planet_gravities()\n",
    "print(planet_gravities)"
   ]
  },
  {
   "cell_type": "markdown",
   "metadata": {},
   "source": [
    "Create a function, `get_keys` that:\n",
    "- takes a dictionary as an argument\n",
    "- returns all the keys of the dictionary as a list\n",
    "\n",
    "Input `planet_gravities` into this function and print the resultant list to the terminal."
   ]
  },
  {
   "cell_type": "code",
   "execution_count": 3,
   "metadata": {},
   "outputs": [
    {
     "name": "stdout",
     "output_type": "stream",
     "text": [
      "['sun', 'jupyter', 'saturn', 'uranus', 'neptune', 'earth', 'venus', 'mars', 'mercury', 'pluto']\n"
     ]
    }
   ],
   "source": [
    "def get_keys(d):\n",
    "    keys = []\n",
    "    for key in d.keys():\n",
    "        keys.append(key)\n",
    "    return keys\n",
    "\n",
    "print(get_keys(planet_gravities))"
   ]
  },
  {
   "cell_type": "markdown",
   "metadata": {},
   "source": [
    "Create a function, `get_values` that:\n",
    "- takes a dictionary as an argument\n",
    "- returns all the values of the dictionary as a list\n",
    "\n",
    "Input `planet_gravities` into this function and print the resultant list to the terminal."
   ]
  },
  {
   "cell_type": "code",
   "execution_count": 4,
   "metadata": {},
   "outputs": [
    {
     "name": "stdout",
     "output_type": "stream",
     "text": [
      "[274, 24.79, 10.445, 8.69, 11.15, 9.81, 8.872, 3.7, 3.7, 0.61]\n"
     ]
    }
   ],
   "source": [
    "def get_values(d):\n",
    "    vals = []\n",
    "    for value in d.values():\n",
    "        vals.append(value)\n",
    "    return vals\n",
    "\n",
    "print(get_values(planet_gravities))"
   ]
  },
  {
   "cell_type": "markdown",
   "metadata": {},
   "source": [
    "Create a function, `add_kv` (add key/value) that:\n",
    "- takes the following positional arguments:\n",
    "  - dict : the input dictionary\n",
    "  - string : the key to be added\n",
    "  - float : the value to be added which corresponds to k\n",
    "- the function adds the key value pair to the input dictionary and returns _a copy_ of the original dictionary with the item added.\n",
    "\n",
    "Input `planet_gravities` into this function with a key of `charon` and a value of `0.279` and print the resultant dictionary to the terminal."
   ]
  },
  {
   "cell_type": "code",
   "execution_count": 5,
   "metadata": {},
   "outputs": [
    {
     "name": "stdout",
     "output_type": "stream",
     "text": [
      "{'sun': 274, 'jupyter': 24.79, 'saturn': 10.445, 'uranus': 8.69, 'neptune': 11.15, 'earth': 9.81, 'venus': 8.872, 'mars': 3.7, 'mercury': 3.7, 'pluto': 0.61, 'charon': 0.279}\n"
     ]
    }
   ],
   "source": [
    "def add_kv(d, k, v):\n",
    "    dc = d.copy()\n",
    "    dc[k] = v\n",
    "    return dc \n",
    "\n",
    "print(add_kv(planet_gravities, 'charon', 0.279))"
   ]
  },
  {
   "cell_type": "markdown",
   "metadata": {},
   "source": [
    "Create a function, `rm_k` (remove key) that:\n",
    "- takes the following positional arguments:\n",
    "  - dict : the input dictionary\n",
    "  - string : the key to be removed\n",
    "- the function removes the key value pair from the input dictionary and returns _a copy_ of the original dictionary with the item removed.\n",
    "\n",
    "Input `planet_gravities` into this function with a key of `earth` and print the resultant dictionary to the terminal."
   ]
  },
  {
   "cell_type": "code",
   "execution_count": 6,
   "metadata": {},
   "outputs": [
    {
     "name": "stdout",
     "output_type": "stream",
     "text": [
      "(9.81, {'sun': 274, 'jupyter': 24.79, 'saturn': 10.445, 'uranus': 8.69, 'neptune': 11.15, 'venus': 8.872, 'mars': 3.7, 'mercury': 3.7, 'pluto': 0.61})\n"
     ]
    }
   ],
   "source": [
    "def rm_k(d, k):\n",
    "    dc = d.copy()\n",
    "    removed_value = dc.pop(k)\n",
    "    return removed_value, dc\n",
    "\n",
    "print(rm_k(planet_gravities, 'earth'))"
   ]
  },
  {
   "cell_type": "markdown",
   "metadata": {},
   "source": [
    "Create a function, `scale_grav` that:\n",
    "- takes the following positional arguments:\n",
    "  - dict : the input dictionary to be modified\n",
    "  - float : a multiplier value\n",
    "- the function scales each value (gravity) by the input multiplier value and returns _a copy_ of the original dictionary with the scaled gravities.\n",
    "\n",
    "Input `planet_gravities` into this function with a multiplier of `1.5` and print the resultant dictionary to the terminal."
   ]
  },
  {
   "cell_type": "code",
   "execution_count": 7,
   "metadata": {},
   "outputs": [
    {
     "name": "stdout",
     "output_type": "stream",
     "text": [
      "{'sun': 411.0, 'jupyter': 37.185, 'saturn': 15.6675, 'uranus': 13.035, 'neptune': 16.725, 'earth': 14.715, 'venus': 13.308, 'mars': 5.550000000000001, 'mercury': 5.550000000000001, 'pluto': 0.915}\n"
     ]
    }
   ],
   "source": [
    "def scale_grav(d, multiplier):\n",
    "    dc = d.copy()\n",
    "    for k, v in dc.items():\n",
    "        dc[k] = v * multiplier\n",
    "    return dc\n",
    "\n",
    "print(scale_grav(planet_gravities, 1.5))"
   ]
  },
  {
   "cell_type": "markdown",
   "metadata": {},
   "source": [
    "#### Unit Tests\n",
    "Run the cell below to determine if your functions were correctly written. \n",
    "\n",
    "You will see the following if all your functions were correctly written:\n",
    "```\n",
    "......\n",
    "Currently testing 'test_is_word_palindrome'...\n",
    "Currently testing 'test_make_unique'...\n",
    "Currently testing 'test_max_of_three'...\n",
    "Currently testing 'test_multiply_list'...\n",
    "Currently testing 'test_reverse_string'...\n",
    "Currently testing 'test_sum_of_list'...\n",
    "\n",
    "----------------------------------------------------------------------\n",
    "Ran 6 tests in 0.008s\n",
    "\n",
    "OK\n",
    "```\n",
    "\n",
    "\n",
    "If you have an error in your function, you will see an output similar to the following:\n",
    "```\n",
    "..F...\n",
    "Currently testing 'test_is_word_palindrome'...\n",
    "Currently testing 'test_make_unique'...\n",
    "Currently testing 'test_max_of_three'...\n",
    "Currently testing 'test_multiply_list'...\n",
    "Currently testing 'test_reverse_string'...\n",
    "Currently testing 'test_sum_of_list'...\n",
    "\n",
    "======================================================================\n",
    "FAIL: test_max_of_three (__main__.TestAllFunctions)\n",
    "----------------------------------------------------------------------\n",
    "Traceback (most recent call last):\n",
    "  File \"<ipython-input-10-e39454a386b1>\", line 17, in test_max_of_three\n",
    "    self.assertEqual(max_of_three(3, 6, -5), 6)\n",
    "AssertionError: -5 != 6\n",
    "\n",
    "----------------------------------------------------------------------\n",
    "Ran 6 tests in 0.021s\n",
    "\n",
    "FAILED (failures=1)\n",
    "```\n",
    "\n",
    "The error we've encountered in the above output occurred at test 3 of 6 (note how the `F` occurrs at the 3rd dot of 6 dots along the top of the output). Our function `test_max_of_three` returned a value of `-5` but the test we used expected a value of `6`. We will need to revisit our function `test_max_of_three` to ensure it returns a value of `6` when passed values of `3`, `6`, and `-5`."
   ]
  },
  {
   "cell_type": "code",
   "execution_count": 8,
   "metadata": {},
   "outputs": [
    {
     "name": "stderr",
     "output_type": "stream",
     "text": [
      "......"
     ]
    },
    {
     "name": "stdout",
     "output_type": "stream",
     "text": [
      "Currently testing 'test_add_kv'...\n",
      "Currently testing 'test_get_keys'...\n",
      "Currently testing 'test_get_values'...\n",
      "Currently testing 'test_make_planet_gravities'...\n",
      "Currently testing 'test_rm_k'...\n",
      "Currently testing 'test_scale_grav'...\n"
     ]
    },
    {
     "name": "stderr",
     "output_type": "stream",
     "text": [
      "\n",
      "----------------------------------------------------------------------\n",
      "Ran 6 tests in 0.008s\n",
      "\n",
      "OK\n"
     ]
    }
   ],
   "source": [
    "class TestAllFunctions(unittest.TestCase):\n",
    "    \n",
    "    def setUp(self):\n",
    "        print(\"Currently testing \\'{0}\\'...\".format(self._testMethodName))\n",
    "        self.planet_gravities = {\n",
    "            'sun' : 274,\n",
    "            'jupyter' : 24.79,\n",
    "            'saturn' : 10.445,\n",
    "            'uranus' : 8.69,\n",
    "            'neptune' : 11.15,\n",
    "            'earth' : 9.81,\n",
    "            'venus' : 8.872,\n",
    "            'mars' : 3.7,\n",
    "            'mercury' : 3.7,\n",
    "            'pluto' : 0.61\n",
    "        }\n",
    "        \n",
    "    def test_make_planet_gravities(self):\n",
    "        self.assertEqual(make_planet_gravities(), self.planet_gravities)\n",
    "        \n",
    "    def test_get_keys(self):\n",
    "        self.planet_keys = [\n",
    "            'sun', \n",
    "            'jupyter', \n",
    "            'saturn', \n",
    "            'uranus', \n",
    "            'neptune', \n",
    "            'earth', \n",
    "            'venus', \n",
    "            'mars', \n",
    "            'mercury', \n",
    "            'pluto'\n",
    "        ]\n",
    "        self.assertEqual(get_keys(self.planet_gravities), self.planet_keys)\n",
    "        \n",
    "    def test_get_values(self):\n",
    "        self.planet_values = [274, 24.79, 10.445, \\\n",
    "            8.69, 11.15, 9.81, 8.872, 3.7, 3.7, 0.61]\n",
    "        self.assertEqual(get_values(self.planet_gravities), self.planet_values)\n",
    "        \n",
    "    def test_add_kv(self):\n",
    "        self.added_kv = {\n",
    "            'sun': 274, \n",
    "            'jupyter': 24.79,\n",
    "            'saturn': 10.445,\n",
    "            'uranus': 8.69,\n",
    "            'neptune': 11.15,\n",
    "            'earth': 9.81,\n",
    "            'venus': 8.872,\n",
    "            'mars': 3.7,\n",
    "            'mercury': 3.7,\n",
    "            'pluto': 0.61,\n",
    "            'charon': 0.279\n",
    "        }\n",
    "        self.assertEqual(add_kv(self.planet_gravities, 'charon', 0.279), self.added_kv)\n",
    "    \n",
    "    def test_rm_k(self):\n",
    "        self.removed_k = (9.81, {\n",
    "            'sun': 274,\n",
    "            'jupyter': 24.79,\n",
    "            'saturn': 10.445,\n",
    "            'uranus': 8.69,\n",
    "            'neptune': 11.15,\n",
    "            'venus': 8.872,\n",
    "            'mars': 3.7,\n",
    "            'mercury': 3.7,\n",
    "            'pluto': 0.61})\n",
    "        self.assertEqual(rm_k(self.planet_gravities, 'earth'), self.removed_k)\n",
    "    \n",
    "    def test_scale_grav(self):\n",
    "        self.scaled_grav = {\n",
    "            'sun': 411.0,\n",
    "            'jupyter': 37.185,\n",
    "            'saturn': 15.6675,\n",
    "            'uranus': 13.035,\n",
    "            'neptune': 16.725,\n",
    "            'earth': 14.715,\n",
    "            'venus': 13.308,\n",
    "            'mars': 5.550000000000001, \n",
    "            'mercury': 5.550000000000001,\n",
    "            'pluto': 0.915\n",
    "        }\n",
    "        self.assertEqual(scale_grav(self.planet_gravities, 1.5), self.scaled_grav)\n",
    "\n",
    "unittest.main(argv=[''], verbosity=1, exit=False);"
   ]
  },
  {
   "cell_type": "code",
   "execution_count": null,
   "metadata": {},
   "outputs": [],
   "source": []
  }
 ],
 "metadata": {
  "kernelspec": {
   "display_name": "Python 3",
   "language": "python",
   "name": "python3"
  },
  "language_info": {
   "codemirror_mode": {
    "name": "ipython",
    "version": 3
   },
   "file_extension": ".py",
   "mimetype": "text/x-python",
   "name": "python",
   "nbconvert_exporter": "python",
   "pygments_lexer": "ipython3",
   "version": "3.6.6"
  }
 },
 "nbformat": 4,
 "nbformat_minor": 2
}
