{
 "cells": [
  {
   "cell_type": "markdown",
   "metadata": {},
   "source": [
    "# Functions Exercises"
   ]
  },
  {
   "cell_type": "code",
   "execution_count": null,
   "metadata": {},
   "outputs": [],
   "source": [
    "import unittest"
   ]
  },
  {
   "cell_type": "markdown",
   "metadata": {},
   "source": [
    "#### Sum of List\n",
    "- function name is `sum_of_list`\n",
    "- input arguments are:\n",
    "  - list of numbers : `nums`\n",
    "- return is:\n",
    "  - number: sum of all elements in `nums`"
   ]
  },
  {
   "cell_type": "code",
   "execution_count": null,
   "metadata": {},
   "outputs": [],
   "source": [
    "# A:"
   ]
  },
  {
   "cell_type": "markdown",
   "metadata": {},
   "source": [
    "#### Multiply Elements of List\n",
    "- function name is `multiply_list`\n",
    "- input arguments are:\n",
    "  - list of numbers : `nums`\n",
    "- return is:\n",
    "  - number: product of all elements in `nums`"
   ]
  },
  {
   "cell_type": "code",
   "execution_count": null,
   "metadata": {},
   "outputs": [],
   "source": [
    "# A:"
   ]
  },
  {
   "cell_type": "markdown",
   "metadata": {},
   "source": [
    "#### Reverse a String\n",
    "- function name is `reverse_string`\n",
    "- input arguments are:\n",
    "  - string : `string_to_reverse`\n",
    "- return is:\n",
    "  - string : `reversed_string`, the reversed result of input `string_to_reverse`\n",
    "  \n",
    "Note: Do not use `[::-1]` indexing to solve this problem, use loops."
   ]
  },
  {
   "cell_type": "code",
   "execution_count": null,
   "metadata": {},
   "outputs": [],
   "source": [
    "# A:"
   ]
  },
  {
   "cell_type": "markdown",
   "metadata": {},
   "source": [
    "#### Max of Three\n",
    "- function name is `max_of_three`\n",
    "- input arguments are:\n",
    "  - int : `x`\n",
    "  - int : `y`\n",
    "  - int : `z`\n",
    "- return is:\n",
    "  - int: max value of `x`, `y`, and `z`"
   ]
  },
  {
   "cell_type": "code",
   "execution_count": null,
   "metadata": {},
   "outputs": [],
   "source": [
    "# A:"
   ]
  },
  {
   "cell_type": "markdown",
   "metadata": {},
   "source": [
    "#### Unique Elements Only\n",
    "- function name is `make_unique`\n",
    "- input arguments are:\n",
    "  - list (mixed types)\n",
    "- return is:\n",
    "  - list (mixed types)\n",
    "  \n",
    "Note: Do not use `set` to solve this problem."
   ]
  },
  {
   "cell_type": "code",
   "execution_count": null,
   "metadata": {},
   "outputs": [],
   "source": [
    "# A:"
   ]
  },
  {
   "cell_type": "markdown",
   "metadata": {},
   "source": [
    "#### Is It a [Palindrome?](https://en.wikipedia.org/wiki/Palindrome)\n",
    "- function name is `is_word_palindrome`\n",
    "- input arguments are:\n",
    "  - string\n",
    "- return is:\n",
    "  - boolean (True if input string is Palindrome, else False)\n",
    "  \n",
    "Note: Do not use [::-1] indexing to solve this problem.\n",
    "Note 2: Whitespace should be considered as a character against which to evaluate symmetry."
   ]
  },
  {
   "cell_type": "code",
   "execution_count": null,
   "metadata": {},
   "outputs": [],
   "source": [
    "# A:"
   ]
  },
  {
   "cell_type": "markdown",
   "metadata": {},
   "source": [
    "#### Unit Tests\n",
    "Run the cell below to determine if your functions were correctly written. \n",
    "\n",
    "You will see the following if all your functions were correctly written:\n",
    "```\n",
    "......\n",
    "Currently testing 'test_is_word_palindrome'...\n",
    "Currently testing 'test_make_unique'...\n",
    "Currently testing 'test_max_of_three'...\n",
    "Currently testing 'test_multiply_list'...\n",
    "Currently testing 'test_reverse_string'...\n",
    "Currently testing 'test_sum_of_list'...\n",
    "\n",
    "----------------------------------------------------------------------\n",
    "Ran 6 tests in 0.008s\n",
    "\n",
    "OK\n",
    "```\n",
    "\n",
    "\n",
    "If you have an error in your function, you will see an output similar to the following:\n",
    "```\n",
    "..F...\n",
    "Currently testing 'test_is_word_palindrome'...\n",
    "Currently testing 'test_make_unique'...\n",
    "Currently testing 'test_max_of_three'...\n",
    "Currently testing 'test_multiply_list'...\n",
    "Currently testing 'test_reverse_string'...\n",
    "Currently testing 'test_sum_of_list'...\n",
    "\n",
    "======================================================================\n",
    "FAIL: test_max_of_three (__main__.TestAllFunctions)\n",
    "----------------------------------------------------------------------\n",
    "Traceback (most recent call last):\n",
    "  File \"<ipython-input-10-e39454a386b1>\", line 17, in test_max_of_three\n",
    "    self.assertEqual(max_of_three(3, 6, -5), 6)\n",
    "AssertionError: -5 != 6\n",
    "\n",
    "----------------------------------------------------------------------\n",
    "Ran 6 tests in 0.021s\n",
    "\n",
    "FAILED (failures=1)\n",
    "```\n",
    "\n",
    "The error we've encountered in the above output occurred at test 3 of 6 (note how the `F` occurrs at the 3rd dot of 6 dots along the top of the output). Our function `test_max_of_three` returned a value of `-5` but the test we used expected a value of `6`. We will need to revisit our function `test_max_of_three` to ensure it returns a value of `6` when passed values of `3`, `6`, and `-5`."
   ]
  },
  {
   "cell_type": "code",
   "execution_count": null,
   "metadata": {},
   "outputs": [],
   "source": [
    "class TestAllFunctions(unittest.TestCase):\n",
    "    \n",
    "    def setUp(self):\n",
    "        print(\"Currently testing \\'{0}\\'...\".format(self._testMethodName))\n",
    "        \n",
    "    def test_sum_of_list(self):\n",
    "        self.assertEqual(sum_of_list((8, 2, 3, 0, 7)), 20)\n",
    "        self.assertEqual(sum_of_list([-8, 2, 3, 0, 7]), 4)\n",
    "        \n",
    "    def test_multiply_list(self):\n",
    "        self.assertEqual(multiply_list([2, 2, 4]), 16)\n",
    "        \n",
    "    def test_reverse_string(self):\n",
    "        self.assertEqual(reverse_string('greg'), 'gerg')\n",
    "        \n",
    "    def test_max_of_three(self):\n",
    "        self.assertEqual(max_of_three(3, 6, -5), 6)\n",
    "        self.assertEqual(max_of_three(5, 5, -5), 5)\n",
    "    \n",
    "    def test_make_unique(self):\n",
    "        # note that set is used here for order invariance of the list\n",
    "        self.assertEqual(set(make_unique([1,1,1,'greg',2,2,3,3,3,3,'greg'])), set([1,2,3,'greg']))\n",
    "    \n",
    "    def test_is_word_palindrome(self):\n",
    "        self.assertFalse(is_word_palindrome('greg'))\n",
    "        self.assertTrue(is_word_palindrome('gohangasalamiimalasagnahog'))\n",
    "\n",
    "unittest.main(argv=['first-arg-is-ignored'], exit=False);"
   ]
  }
 ],
 "metadata": {
  "kernelspec": {
   "display_name": "Python 3",
   "language": "python",
   "name": "python3"
  },
  "language_info": {
   "codemirror_mode": {
    "name": "ipython",
    "version": 3
   },
   "file_extension": ".py",
   "mimetype": "text/x-python",
   "name": "python",
   "nbconvert_exporter": "python",
   "pygments_lexer": "ipython3",
   "version": "3.6.6"
  }
 },
 "nbformat": 4,
 "nbformat_minor": 2
}
